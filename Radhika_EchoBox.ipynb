{
  "nbformat": 4,
  "nbformat_minor": 0,
  "metadata": {
    "colab": {
      "name": "Radhika EchoBox.ipynb",
      "provenance": [],
      "include_colab_link": true
    },
    "kernelspec": {
      "name": "python3",
      "display_name": "Python 3"
    }
  },
  "cells": [
    {
      "cell_type": "markdown",
      "metadata": {
        "id": "view-in-github",
        "colab_type": "text"
      },
      "source": [
        "<a href=\"https://colab.research.google.com/github/radhika1112/Breaking-News-Detection1/blob/master/Radhika_EchoBox.ipynb\" target=\"_parent\"><img src=\"https://colab.research.google.com/assets/colab-badge.svg\" alt=\"Open In Colab\"/></a>"
      ]
    },
    {
      "cell_type": "markdown",
      "metadata": {
        "id": "zDuCpWZtP1uj",
        "colab_type": "text"
      },
      "source": [
        " **Radhika Agrawal,\n",
        "Msc Data Science, \n",
        "University of Glasgow**"
      ]
    },
    {
      "cell_type": "markdown",
      "metadata": {
        "id": "ySZbmy4Oj85-",
        "colab_type": "text"
      },
      "source": [
        "# Echobox Data Science Challenge 2019\n",
        "# Breaking News Detection\n",
        "\n",
        "\n",
        "\n",
        "\n",
        "\n"
      ]
    },
    {
      "cell_type": "markdown",
      "metadata": {
        "id": "V3JSD5p_QegZ",
        "colab_type": "text"
      },
      "source": [
        "### Downloading libraries"
      ]
    },
    {
      "cell_type": "code",
      "metadata": {
        "id": "sqZxv1Q6f4g9",
        "colab_type": "code",
        "outputId": "f56de8e5-2400-4244-c8b0-26f59c8cba73",
        "colab": {
          "base_uri": "https://localhost:8080/",
          "height": 510
        }
      },
      "source": [
        "import spacy\n",
        "import pandas as pd\n",
        "\n",
        "# Load the medium english model. \n",
        "# We will use this model to get embedding features for tokens later.\n",
        "!python -m spacy download en_core_web_md\n",
        "\n",
        "import warnings\n",
        "warnings.filterwarnings(\"ignore\")\n",
        "import nltk\n",
        "nltk.download('punkt')\n",
        "nltk.download('averaged_perceptron_tagger')\n",
        "\n",
        "import nltk\n",
        "nltk.download('punkt')\n",
        "nltk.download('wordnet')\n",
        "nltk.download('stopwords')\n",
        "nltk.download('averaged_perceptron_tagger')"
      ],
      "execution_count": 0,
      "outputs": [
        {
          "output_type": "stream",
          "text": [
            "Collecting en_core_web_md==2.1.0 from https://github.com/explosion/spacy-models/releases/download/en_core_web_md-2.1.0/en_core_web_md-2.1.0.tar.gz#egg=en_core_web_md==2.1.0\n",
            "\u001b[?25l  Downloading https://github.com/explosion/spacy-models/releases/download/en_core_web_md-2.1.0/en_core_web_md-2.1.0.tar.gz (95.4MB)\n",
            "\u001b[K     |████████████████████████████████| 95.4MB 41.8MB/s \n",
            "\u001b[?25hBuilding wheels for collected packages: en-core-web-md\n",
            "  Building wheel for en-core-web-md (setup.py) ... \u001b[?25l\u001b[?25hdone\n",
            "  Created wheel for en-core-web-md: filename=en_core_web_md-2.1.0-cp36-none-any.whl size=97126236 sha256=cdf95d1a77b75c097420eeae67b79c25906567deae3d90eed5191577d2f571b7\n",
            "  Stored in directory: /tmp/pip-ephem-wheel-cache-ij9s4sqx/wheels/c1/2c/5f/fd7f3ec336bf97b0809c86264d2831c5dfb00fc2e239d1bb01\n",
            "Successfully built en-core-web-md\n",
            "Installing collected packages: en-core-web-md\n",
            "Successfully installed en-core-web-md-2.1.0\n",
            "\u001b[38;5;2m✔ Download and installation successful\u001b[0m\n",
            "You can now load the model via spacy.load('en_core_web_md')\n",
            "[nltk_data] Downloading package punkt to /root/nltk_data...\n",
            "[nltk_data]   Unzipping tokenizers/punkt.zip.\n",
            "[nltk_data] Downloading package averaged_perceptron_tagger to\n",
            "[nltk_data]     /root/nltk_data...\n",
            "[nltk_data]   Unzipping taggers/averaged_perceptron_tagger.zip.\n",
            "[nltk_data] Downloading package punkt to /root/nltk_data...\n",
            "[nltk_data]   Package punkt is already up-to-date!\n",
            "[nltk_data] Downloading package wordnet to /root/nltk_data...\n",
            "[nltk_data]   Unzipping corpora/wordnet.zip.\n",
            "[nltk_data] Downloading package stopwords to /root/nltk_data...\n",
            "[nltk_data]   Unzipping corpora/stopwords.zip.\n",
            "[nltk_data] Downloading package averaged_perceptron_tagger to\n",
            "[nltk_data]     /root/nltk_data...\n",
            "[nltk_data]   Package averaged_perceptron_tagger is already up-to-\n",
            "[nltk_data]       date!\n"
          ],
          "name": "stdout"
        },
        {
          "output_type": "execute_result",
          "data": {
            "text/plain": [
              "True"
            ]
          },
          "metadata": {
            "tags": []
          },
          "execution_count": 1
        }
      ]
    },
    {
      "cell_type": "markdown",
      "metadata": {
        "id": "GOMVu0p6QdYY",
        "colab_type": "text"
      },
      "source": [
        ""
      ]
    },
    {
      "cell_type": "code",
      "metadata": {
        "id": "2IRMnmrNgR5a",
        "colab_type": "code",
        "outputId": "4c44063b-a1a5-45a6-d7cf-e4acabdfbe33",
        "colab": {
          "base_uri": "https://localhost:8080/",
          "height": 160
        }
      },
      "source": [
        "!python -m spacy download en"
      ],
      "execution_count": 0,
      "outputs": [
        {
          "output_type": "stream",
          "text": [
            "Requirement already satisfied: en_core_web_sm==2.1.0 from https://github.com/explosion/spacy-models/releases/download/en_core_web_sm-2.1.0/en_core_web_sm-2.1.0.tar.gz#egg=en_core_web_sm==2.1.0 in /usr/local/lib/python3.6/dist-packages (2.1.0)\n",
            "\u001b[38;5;2m✔ Download and installation successful\u001b[0m\n",
            "You can now load the model via spacy.load('en_core_web_sm')\n",
            "\u001b[38;5;2m✔ Linking successful\u001b[0m\n",
            "/usr/local/lib/python3.6/dist-packages/en_core_web_sm -->\n",
            "/usr/local/lib/python3.6/dist-packages/spacy/data/en\n",
            "You can now load the model via spacy.load('en')\n"
          ],
          "name": "stdout"
        }
      ]
    },
    {
      "cell_type": "code",
      "metadata": {
        "id": "4vYjyOQQkxBE",
        "colab_type": "code",
        "outputId": "c8b30414-fda5-43ce-ea40-611d48af0032",
        "colab": {
          "base_uri": "https://localhost:8080/",
          "height": 34
        }
      },
      "source": [
        "!pip install tqdm"
      ],
      "execution_count": 0,
      "outputs": [
        {
          "output_type": "stream",
          "text": [
            "Requirement already satisfied: tqdm in /usr/local/lib/python3.6/dist-packages (4.28.1)\n"
          ],
          "name": "stdout"
        }
      ]
    },
    {
      "cell_type": "code",
      "metadata": {
        "id": "8gB5z8S9mUNz",
        "colab_type": "code",
        "colab": {}
      },
      "source": [
        "from sklearn.cluster import DBSCAN"
      ],
      "execution_count": 0,
      "outputs": []
    },
    {
      "cell_type": "code",
      "metadata": {
        "id": "yWQvDZjfjOE_",
        "colab_type": "code",
        "colab": {}
      },
      "source": [
        "import spacy"
      ],
      "execution_count": 0,
      "outputs": []
    },
    {
      "cell_type": "code",
      "metadata": {
        "id": "N7Etdxf4liNZ",
        "colab_type": "code",
        "colab": {}
      },
      "source": [
        "from tqdm import tqdm"
      ],
      "execution_count": 0,
      "outputs": []
    },
    {
      "cell_type": "markdown",
      "metadata": {
        "id": "nF0HrGvuQm9M",
        "colab_type": "text"
      },
      "source": [
        "### Loading the dataset"
      ]
    },
    {
      "cell_type": "code",
      "metadata": {
        "id": "6GgZUHK_gjH7",
        "colab_type": "code",
        "outputId": "db971049-edcb-4f11-f0e0-d4b8141c0b64",
        "colab": {
          "base_uri": "https://localhost:8080/",
          "height": 125
        }
      },
      "source": [
        "from google.colab import drive\n",
        "drive.mount('/content/gdrive')"
      ],
      "execution_count": 0,
      "outputs": [
        {
          "output_type": "stream",
          "text": [
            "Go to this URL in a browser: https://accounts.google.com/o/oauth2/auth?client_id=947318989803-6bn6qk8qdgf4n4g3pfee6491hc0brc4i.apps.googleusercontent.com&redirect_uri=urn%3Aietf%3Awg%3Aoauth%3A2.0%3Aoob&scope=email%20https%3A%2F%2Fwww.googleapis.com%2Fauth%2Fdocs.test%20https%3A%2F%2Fwww.googleapis.com%2Fauth%2Fdrive%20https%3A%2F%2Fwww.googleapis.com%2Fauth%2Fdrive.photos.readonly%20https%3A%2F%2Fwww.googleapis.com%2Fauth%2Fpeopleapi.readonly&response_type=code\n",
            "\n",
            "Enter your authorization code:\n",
            "··········\n",
            "Mounted at /content/gdrive\n"
          ],
          "name": "stdout"
        }
      ]
    },
    {
      "cell_type": "code",
      "metadata": {
        "id": "0VF1Y_k_heKM",
        "colab_type": "code",
        "outputId": "961a1d3a-2581-43ac-a12d-ad01068d8f0d",
        "colab": {
          "base_uri": "https://localhost:8080/",
          "height": 34
        }
      },
      "source": [
        "import pandas as pd \n",
        "root_path = 'gdrive/My Drive/EchoboxCSV.csv/'\n",
        "df=pd.read_csv('gdrive/My Drive/EchoboxCSV.csv')\n",
        "df.shape"
      ],
      "execution_count": 0,
      "outputs": [
        {
          "output_type": "execute_result",
          "data": {
            "text/plain": [
              "(13022, 6)"
            ]
          },
          "metadata": {
            "tags": []
          },
          "execution_count": 9
        }
      ]
    },
    {
      "cell_type": "markdown",
      "metadata": {
        "id": "Ez_EKoq0QrmS",
        "colab_type": "text"
      },
      "source": [
        "### Analysing the data"
      ]
    },
    {
      "cell_type": "code",
      "metadata": {
        "id": "JdkwHGSRh_fC",
        "colab_type": "code",
        "outputId": "8f853606-bd5a-443e-9292-ce4eb3809521",
        "colab": {
          "base_uri": "https://localhost:8080/",
          "height": 511
        }
      },
      "source": [
        "df.head(10)"
      ],
      "execution_count": 0,
      "outputs": [
        {
          "output_type": "execute_result",
          "data": {
            "text/html": [
              "<div>\n",
              "<style scoped>\n",
              "    .dataframe tbody tr th:only-of-type {\n",
              "        vertical-align: middle;\n",
              "    }\n",
              "\n",
              "    .dataframe tbody tr th {\n",
              "        vertical-align: top;\n",
              "    }\n",
              "\n",
              "    .dataframe thead th {\n",
              "        text-align: right;\n",
              "    }\n",
              "</style>\n",
              "<table border=\"1\" class=\"dataframe\">\n",
              "  <thead>\n",
              "    <tr style=\"text-align: right;\">\n",
              "      <th></th>\n",
              "      <th>ArticleId</th>\n",
              "      <th>ArticleURL</th>\n",
              "      <th>ArticleTitle</th>\n",
              "      <th>ArticleDescription</th>\n",
              "      <th>ArticlePublishedTime</th>\n",
              "      <th>EventId</th>\n",
              "    </tr>\n",
              "  </thead>\n",
              "  <tbody>\n",
              "    <tr>\n",
              "      <th>0</th>\n",
              "      <td>5cd7ed707ddacd3b2b3b549e</td>\n",
              "      <td>https://www.bbc.co.uk/news/uk-england-suffolk-...</td>\n",
              "      <td>Lowestoft sea wall fall cyclist rescued by friend</td>\n",
              "      <td>Coastguards praise the boy's friend for his ac...</td>\n",
              "      <td>1557653530</td>\n",
              "      <td>0.0</td>\n",
              "    </tr>\n",
              "    <tr>\n",
              "      <th>1</th>\n",
              "      <td>5cd7e83beb96a44751294217</td>\n",
              "      <td>https://www.highsnobiety.com/p/met-gala-best-c...</td>\n",
              "      <td>The Met Gala &amp; ‘Game of Thrones’ Feature in Th...</td>\n",
              "      <td>Once again, our ever-sarcastic readership have...</td>\n",
              "      <td>1557653563</td>\n",
              "      <td>0.0</td>\n",
              "    </tr>\n",
              "    <tr>\n",
              "      <th>2</th>\n",
              "      <td>5cd7e99a8e662d1e4435cb3d</td>\n",
              "      <td>https://www.mirror.co.uk/news/uk-news/boy-dies...</td>\n",
              "      <td>Boy dies on prom day after allergic reaction t...</td>\n",
              "      <td>Joe Dale's family have spoken out about losing...</td>\n",
              "      <td>1557653574</td>\n",
              "      <td>0.0</td>\n",
              "    </tr>\n",
              "    <tr>\n",
              "      <th>3</th>\n",
              "      <td>5cd7f6dd7ddacd3b2b3b56ab</td>\n",
              "      <td>https://www.independent.co.uk/voices/paddy-jac...</td>\n",
              "      <td>Paddy Jackson’s return to Rugby is yet more pr...</td>\n",
              "      <td>He may have been found not guilty of rape last...</td>\n",
              "      <td>1557653588</td>\n",
              "      <td>0.0</td>\n",
              "    </tr>\n",
              "    <tr>\n",
              "      <th>4</th>\n",
              "      <td>5cd7e89c8e662d1e4435cb13</td>\n",
              "      <td>https://www.standard.co.uk/showbiz/celebrity-n...</td>\n",
              "      <td>BAFTA TV Awards 2019: Stars prepare for glitzy...</td>\n",
              "      <td>Stars are preparing for Sunday night s TV Baft...</td>\n",
              "      <td>1557653610</td>\n",
              "      <td>0.0</td>\n",
              "    </tr>\n",
              "    <tr>\n",
              "      <th>5</th>\n",
              "      <td>5cd7e8ad8e662d1e4435cb18</td>\n",
              "      <td>https://newsinfo.inquirer.net/1117187/look-poe...</td>\n",
              "      <td>LOOK: Poe shares son’s fave photo of her on Mo...</td>\n",
              "      <td>Sen. Grace Poe, who is running for re-election...</td>\n",
              "      <td>1557653627</td>\n",
              "      <td>0.0</td>\n",
              "    </tr>\n",
              "    <tr>\n",
              "      <th>6</th>\n",
              "      <td>5cd7eb788e662d1e4435cb9c</td>\n",
              "      <td>https://www.mirror.co.uk/sport/football/news/p...</td>\n",
              "      <td>Pep Guardiola 'bans Man City staff from checki...</td>\n",
              "      <td>Man City will win the Premier League with vict...</td>\n",
              "      <td>1557653639</td>\n",
              "      <td>0.0</td>\n",
              "    </tr>\n",
              "    <tr>\n",
              "      <th>7</th>\n",
              "      <td>5cd8124b7ddacd3b2b3b5cda</td>\n",
              "      <td>https://virginradio.co.uk/highlights/lewis-cap...</td>\n",
              "      <td>Lewis Capaldi, Olivia Wilde, Mena Massoud &amp; MO...</td>\n",
              "      <td>HighlightsThe cavalcade of stars continued thi...</td>\n",
              "      <td>1557653674</td>\n",
              "      <td>0.0</td>\n",
              "    </tr>\n",
              "    <tr>\n",
              "      <th>8</th>\n",
              "      <td>5cd7e90e7ddacd3b2b3b53b4</td>\n",
              "      <td>https://www.smh.com.au/sport/soccer/wanderers-...</td>\n",
              "      <td>Wanderers face leadership crisis as captain Ha...</td>\n",
              "      <td>Western Sydney Wanderers captain Brendan Hamil...</td>\n",
              "      <td>1557653689</td>\n",
              "      <td>0.0</td>\n",
              "    </tr>\n",
              "    <tr>\n",
              "      <th>9</th>\n",
              "      <td>5cd7ea8c7ddacd3b2b3b540b</td>\n",
              "      <td>https://ahvalnews.com/berat-albayrak/turkeys-f...</td>\n",
              "      <td>Turkey's finance minister signals inflation ra...</td>\n",
              "      <td>Turkey's finance minister on Sunday said the c...</td>\n",
              "      <td>1557653697</td>\n",
              "      <td>0.0</td>\n",
              "    </tr>\n",
              "  </tbody>\n",
              "</table>\n",
              "</div>"
            ],
            "text/plain": [
              "                  ArticleId  ... EventId\n",
              "0  5cd7ed707ddacd3b2b3b549e  ...     0.0\n",
              "1  5cd7e83beb96a44751294217  ...     0.0\n",
              "2  5cd7e99a8e662d1e4435cb3d  ...     0.0\n",
              "3  5cd7f6dd7ddacd3b2b3b56ab  ...     0.0\n",
              "4  5cd7e89c8e662d1e4435cb13  ...     0.0\n",
              "5  5cd7e8ad8e662d1e4435cb18  ...     0.0\n",
              "6  5cd7eb788e662d1e4435cb9c  ...     0.0\n",
              "7  5cd8124b7ddacd3b2b3b5cda  ...     0.0\n",
              "8  5cd7e90e7ddacd3b2b3b53b4  ...     0.0\n",
              "9  5cd7ea8c7ddacd3b2b3b540b  ...     0.0\n",
              "\n",
              "[10 rows x 6 columns]"
            ]
          },
          "metadata": {
            "tags": []
          },
          "execution_count": 55
        }
      ]
    },
    {
      "cell_type": "markdown",
      "metadata": {
        "id": "JVAa9RDDQxQr",
        "colab_type": "text"
      },
      "source": [
        "### Removing Nans"
      ]
    },
    {
      "cell_type": "code",
      "metadata": {
        "id": "ydvFFSQBiEQR",
        "colab_type": "code",
        "colab": {}
      },
      "source": [
        "df.EventId.fillna(0,inplace=True)"
      ],
      "execution_count": 0,
      "outputs": []
    },
    {
      "cell_type": "code",
      "metadata": {
        "id": "5y1cavwNT9vQ",
        "colab_type": "code",
        "outputId": "ee0ce834-6108-4adb-b4ba-88103cee5877",
        "colab": {
          "base_uri": "https://localhost:8080/",
          "height": 34
        }
      },
      "source": [
        "df.shape"
      ],
      "execution_count": 0,
      "outputs": [
        {
          "output_type": "execute_result",
          "data": {
            "text/plain": [
              "(13022, 6)"
            ]
          },
          "metadata": {
            "tags": []
          },
          "execution_count": 56
        }
      ]
    },
    {
      "cell_type": "markdown",
      "metadata": {
        "id": "gHvPIFWJQ1Q5",
        "colab_type": "text"
      },
      "source": [
        "### Removing Duplicates"
      ]
    },
    {
      "cell_type": "code",
      "metadata": {
        "id": "vLg_tus4FsxP",
        "colab_type": "code",
        "outputId": "65160be8-f299-46ae-df58-8ffb520e0c95",
        "colab": {
          "base_uri": "https://localhost:8080/",
          "height": 34
        }
      },
      "source": [
        "df=df.drop_duplicates(subset='ArticleTitle').reset_index(drop=True)\n",
        "df.shape"
      ],
      "execution_count": 0,
      "outputs": [
        {
          "output_type": "execute_result",
          "data": {
            "text/plain": [
              "(13022, 6)"
            ]
          },
          "metadata": {
            "tags": []
          },
          "execution_count": 12
        }
      ]
    },
    {
      "cell_type": "code",
      "metadata": {
        "id": "1i03K1TrTWEa",
        "colab_type": "code",
        "colab": {}
      },
      "source": [
        "stop_words = set(nltk.corpus.stopwords.words('english'))"
      ],
      "execution_count": 0,
      "outputs": []
    },
    {
      "cell_type": "code",
      "metadata": {
        "id": "6ljZSwgNjava",
        "colab_type": "code",
        "colab": {}
      },
      "source": [
        "nlp = spacy.load('en')\n"
      ],
      "execution_count": 0,
      "outputs": []
    },
    {
      "cell_type": "markdown",
      "metadata": {
        "id": "Upgyyb4cRC9j",
        "colab_type": "text"
      },
      "source": [
        "### Tokenising and normalising\n",
        "\n",
        "### Removing Stopwords, extraneous spaces, lower case, and punctuations."
      ]
    },
    {
      "cell_type": "code",
      "metadata": {
        "id": "UHcExMgWidf_",
        "colab_type": "code",
        "colab": {}
      },
      "source": [
        "def normalized_tokenizer(string):\n",
        "  tokens = []\n",
        "  normalized_tokens = []\n",
        "  doc = nlp(string)\n",
        "  for token in doc:\n",
        "    tokens.append(token)\n",
        "  for token in tokens:\n",
        "    normalized = token.text.lower().strip()\n",
        "    if ((token.is_alpha)):\n",
        "      if token.text not in stop_words: #stopword removal\n",
        "        normalized_tokens.append(normalized)\n",
        "  return normalized_tokens\n",
        "  return normalized_tokens"
      ],
      "execution_count": 0,
      "outputs": []
    },
    {
      "cell_type": "code",
      "metadata": {
        "id": "9LWh-1oijCxf",
        "colab_type": "code",
        "outputId": "9d3f5bea-bc6e-4298-97d6-7c56ac41a334",
        "colab": {
          "base_uri": "https://localhost:8080/",
          "height": 34
        }
      },
      "source": [
        "normalized_tokenizer(\"I am working on Echobox challenGE.., I want this InternShip!!:)\")"
      ],
      "execution_count": 0,
      "outputs": [
        {
          "output_type": "execute_result",
          "data": {
            "text/plain": [
              "['i', 'working', 'echobox', 'challenge', 'i', 'want', 'internship']"
            ]
          },
          "metadata": {
            "tags": []
          },
          "execution_count": 54
        }
      ]
    },
    {
      "cell_type": "markdown",
      "metadata": {
        "id": "yZeyMOscSrOz",
        "colab_type": "text"
      },
      "source": [
        "### Converting the article title into vector form.\n",
        "\n",
        "Used SpaCy’s pre-trained word embeddings model en_core to give meaning to the words/sentences. Word2Vec, FastText or even GloVe could also be used.\n",
        "By default, SpaCy considers a sentence’s vector as the average between every word’s vector. \n"
      ]
    },
    {
      "cell_type": "code",
      "metadata": {
        "id": "GFYl_LrWjEw4",
        "colab_type": "code",
        "outputId": "469a7e94-e806-4046-a1f5-958d3482ae1a",
        "colab": {
          "base_uri": "https://localhost:8080/",
          "height": 34
        }
      },
      "source": [
        "sentence_vector={}\n",
        "docs=[]\n",
        "for title in tqdm(df.ArticleTitle):\n",
        "  doc = nlp(title)\n",
        "  docs.append(doc)\n",
        "  sentence_vector.update({title:doc.vector})\n",
        "  \n",
        "sentences=list(sentence_vector.keys())\n",
        "vectors=list(sentence_vector.values())"
      ],
      "execution_count": 0,
      "outputs": [
        {
          "output_type": "stream",
          "text": [
            "100%|██████████| 13022/13022 [02:24<00:00, 89.87it/s]\n"
          ],
          "name": "stderr"
        }
      ]
    },
    {
      "cell_type": "markdown",
      "metadata": {
        "id": "yodrNGVRSGyy",
        "colab_type": "text"
      },
      "source": [
        ""
      ]
    },
    {
      "cell_type": "code",
      "metadata": {
        "id": "fIAF-zf9RZRM",
        "colab_type": "code",
        "colab": {}
      },
      "source": [
        "sentences"
      ],
      "execution_count": 0,
      "outputs": []
    },
    {
      "cell_type": "code",
      "metadata": {
        "id": "qufiobHKm5AR",
        "colab_type": "code",
        "colab": {}
      },
      "source": [
        "import numpy as np"
      ],
      "execution_count": 0,
      "outputs": []
    },
    {
      "cell_type": "markdown",
      "metadata": {
        "id": "JwsODwMaU8A7",
        "colab_type": "text"
      },
      "source": [
        "### DBSCAN\n",
        "Now, that our data is preprocessed and is in the correct input vector format, We have to cluster them based on the similarities of the Article Title.\n",
        "Cosine Similarity is used to form clusters."
      ]
    },
    {
      "cell_type": "code",
      "metadata": {
        "id": "Lt0Upja_lT1s",
        "colab_type": "code",
        "outputId": "aa6a7860-7e25-47df-eed2-33ef61301ebb",
        "colab": {
          "base_uri": "https://localhost:8080/",
          "height": 34
        }
      },
      "source": [
        "x=np.array(vectors)\n",
        "\n",
        "num_classes={}\n",
        "\n",
        "for i in tqdm(np.arange(0.001,1,0.002)):\n",
        "  dbscan=DBSCAN(eps=i,min_samples=2,metric='cosine').fit(x)\n",
        "  num_classes.update({i:len(pd.Series(dbscan.labels_).value_counts())})\n",
        "  \n",
        "dbscan=DBSCAN(eps=0.08,min_samples=2,metric='cosine').fit(x)"
      ],
      "execution_count": 0,
      "outputs": [
        {
          "output_type": "stream",
          "text": [
            "100%|██████████| 500/500 [21:29<00:00,  3.44s/it]\n"
          ],
          "name": "stderr"
        }
      ]
    },
    {
      "cell_type": "markdown",
      "metadata": {
        "id": "qmfDaiZRV_h5",
        "colab_type": "text"
      },
      "source": [
        "\n",
        "**We get output of as the int labels and the similar sentences with same labels.**\n",
        "\n",
        "**The labels that are -1 have no coreelation with the other sentences, the labels with 0 do not belong to a cluster.**"
      ]
    },
    {
      "cell_type": "code",
      "metadata": {
        "id": "arJyDKGfmSEr",
        "colab_type": "code",
        "colab": {}
      },
      "source": [
        "results=pd.DataFrame({'label':dbscan.labels_,'sent':sentences})\n",
        "event_df=df[df.ArticleTitle.isin(results.sent)][['ArticleURL','ArticlePublishedTime','ArticleTitle','ArticleDescription']]\n",
        "event_df['ArticlePublishedTime']=pd.to_datetime(event_df.ArticlePublishedTime)\n",
        "# for r, i in zip(results.label, for i in range (1,506)):\n",
        "#   event_df['id']= i\n",
        "  \n",
        "  \n",
        "# event_df=event_df.sort_values(by='ArticlePublishedTime')"
      ],
      "execution_count": 0,
      "outputs": []
    },
    {
      "cell_type": "markdown",
      "metadata": {
        "id": "NmB2nR7gW4I4",
        "colab_type": "text"
      },
      "source": [
        "### Example Result\n",
        "\n",
        "**We can see that cluster label '338' has both the article similar as they talk about the same topic ie. \"Doris Day dies aged 97\"**"
      ]
    },
    {
      "cell_type": "code",
      "metadata": {
        "id": "5yDQgPbjaPCt",
        "colab_type": "code",
        "colab": {}
      },
      "source": [
        "example_result=results[results.label==338].sent.tolist()\n",
        "ex_event_df=df[df.ArticleTitle.isin(example_result)][['ArticlePublishedTime','ArticleTitle','ArticleDescription']]\n",
        "ex_event_df['ArticlePublishedTime']=pd.to_datetime(event_df.ArticlePublishedTime)\n",
        "# event_df=event_df.sort_values(by='ArticlePublishedTime')"
      ],
      "execution_count": 0,
      "outputs": []
    },
    {
      "cell_type": "code",
      "metadata": {
        "id": "M0Uhig3jc8k4",
        "colab_type": "code",
        "outputId": "d4deb272-de9a-46c6-95c0-19f67ef52f5c",
        "colab": {
          "base_uri": "https://localhost:8080/",
          "height": 193
        }
      },
      "source": [
        "example_result"
      ],
      "execution_count": 0,
      "outputs": [
        {
          "output_type": "execute_result",
          "data": {
            "text/plain": [
              "['Doris Day dies aged 97',\n",
              " 'Actress Doris Day dies aged 97',\n",
              " 'Hollywood star Doris Day dies at 97',\n",
              " 'American actress Doris Day dies aged 97',\n",
              " 'Screen legend Doris Day dies at 97',\n",
              " 'Screen legend Doris Day dies aged 97',\n",
              " 'Screen legend Doris Day dies, aged 97',\n",
              " 'Hollywood star Doris Day dies aged 97',\n",
              " 'Hollywood legend Doris Day dies aged 97',\n",
              " 'Hollywood icon Doris Day dies at 97']"
            ]
          },
          "metadata": {
            "tags": []
          },
          "execution_count": 98
        }
      ]
    },
    {
      "cell_type": "code",
      "metadata": {
        "id": "DDTpblXvabPp",
        "colab_type": "code",
        "outputId": "7b02f48e-4a80-49cd-e0ce-37a82296fb7b",
        "colab": {
          "base_uri": "https://localhost:8080/",
          "height": 343
        }
      },
      "source": [
        "ex_event_df"
      ],
      "execution_count": 0,
      "outputs": [
        {
          "output_type": "execute_result",
          "data": {
            "text/html": [
              "<div>\n",
              "<style scoped>\n",
              "    .dataframe tbody tr th:only-of-type {\n",
              "        vertical-align: middle;\n",
              "    }\n",
              "\n",
              "    .dataframe tbody tr th {\n",
              "        vertical-align: top;\n",
              "    }\n",
              "\n",
              "    .dataframe thead th {\n",
              "        text-align: right;\n",
              "    }\n",
              "</style>\n",
              "<table border=\"1\" class=\"dataframe\">\n",
              "  <thead>\n",
              "    <tr style=\"text-align: right;\">\n",
              "      <th></th>\n",
              "      <th>ArticlePublishedTime</th>\n",
              "      <th>ArticleTitle</th>\n",
              "      <th>ArticleDescription</th>\n",
              "    </tr>\n",
              "  </thead>\n",
              "  <tbody>\n",
              "    <tr>\n",
              "      <th>6880</th>\n",
              "      <td>1970-01-01 00:00:01.557752179</td>\n",
              "      <td>Doris Day dies aged 97</td>\n",
              "      <td>NaN</td>\n",
              "    </tr>\n",
              "    <tr>\n",
              "      <th>6959</th>\n",
              "      <td>1970-01-01 00:00:01.557752648</td>\n",
              "      <td>Actress Doris Day dies aged 97</td>\n",
              "      <td>Hollywood star Doris Day, whose films made her...</td>\n",
              "    </tr>\n",
              "    <tr>\n",
              "      <th>7040</th>\n",
              "      <td>1970-01-01 00:00:01.557753336</td>\n",
              "      <td>Hollywood star Doris Day dies at 97</td>\n",
              "      <td>NaN</td>\n",
              "    </tr>\n",
              "    <tr>\n",
              "      <th>7136</th>\n",
              "      <td>1970-01-01 00:00:01.557754139</td>\n",
              "      <td>American actress Doris Day dies aged 97</td>\n",
              "      <td>NaN</td>\n",
              "    </tr>\n",
              "    <tr>\n",
              "      <th>7137</th>\n",
              "      <td>1970-01-01 00:00:01.557754141</td>\n",
              "      <td>Screen legend Doris Day dies at 97</td>\n",
              "      <td>With her lilting contralto, wholesome blonde b...</td>\n",
              "    </tr>\n",
              "    <tr>\n",
              "      <th>7186</th>\n",
              "      <td>1970-01-01 00:00:01.557754609</td>\n",
              "      <td>Screen legend Doris Day dies aged 97</td>\n",
              "      <td>Doris Day, whose wholesome screen presence sto...</td>\n",
              "    </tr>\n",
              "    <tr>\n",
              "      <th>7187</th>\n",
              "      <td>1970-01-01 00:00:01.557754609</td>\n",
              "      <td>Screen legend Doris Day dies, aged 97</td>\n",
              "      <td>Doris Day, one of the most beloved and recogni...</td>\n",
              "    </tr>\n",
              "    <tr>\n",
              "      <th>7392</th>\n",
              "      <td>1970-01-01 00:00:01.557756308</td>\n",
              "      <td>Hollywood star Doris Day dies aged 97</td>\n",
              "      <td>NaN</td>\n",
              "    </tr>\n",
              "    <tr>\n",
              "      <th>7686</th>\n",
              "      <td>1970-01-01 00:00:01.557758720</td>\n",
              "      <td>Hollywood legend Doris Day dies aged 97</td>\n",
              "      <td>Singer-turned-actress Doris Day was one of the...</td>\n",
              "    </tr>\n",
              "    <tr>\n",
              "      <th>7964</th>\n",
              "      <td>1970-01-01 00:00:01.557760828</td>\n",
              "      <td>Hollywood icon Doris Day dies at 97</td>\n",
              "      <td>NaN</td>\n",
              "    </tr>\n",
              "  </tbody>\n",
              "</table>\n",
              "</div>"
            ],
            "text/plain": [
              "              ArticlePublishedTime  ...                                 ArticleDescription\n",
              "6880 1970-01-01 00:00:01.557752179  ...                                                NaN\n",
              "6959 1970-01-01 00:00:01.557752648  ...  Hollywood star Doris Day, whose films made her...\n",
              "7040 1970-01-01 00:00:01.557753336  ...                                                NaN\n",
              "7136 1970-01-01 00:00:01.557754139  ...                                                NaN\n",
              "7137 1970-01-01 00:00:01.557754141  ...  With her lilting contralto, wholesome blonde b...\n",
              "7186 1970-01-01 00:00:01.557754609  ...  Doris Day, whose wholesome screen presence sto...\n",
              "7187 1970-01-01 00:00:01.557754609  ...  Doris Day, one of the most beloved and recogni...\n",
              "7392 1970-01-01 00:00:01.557756308  ...                                                NaN\n",
              "7686 1970-01-01 00:00:01.557758720  ...  Singer-turned-actress Doris Day was one of the...\n",
              "7964 1970-01-01 00:00:01.557760828  ...                                                NaN\n",
              "\n",
              "[10 rows x 3 columns]"
            ]
          },
          "metadata": {
            "tags": []
          },
          "execution_count": 87
        }
      ]
    },
    {
      "cell_type": "code",
      "metadata": {
        "id": "zQQSmtjYOMbx",
        "colab_type": "code",
        "outputId": "b50021f1-d0a6-407e-9592-61ca157ab2b4",
        "colab": {
          "base_uri": "https://localhost:8080/",
          "height": 343
        }
      },
      "source": [
        "results.head(10)"
      ],
      "execution_count": 0,
      "outputs": [
        {
          "output_type": "execute_result",
          "data": {
            "text/html": [
              "<div>\n",
              "<style scoped>\n",
              "    .dataframe tbody tr th:only-of-type {\n",
              "        vertical-align: middle;\n",
              "    }\n",
              "\n",
              "    .dataframe tbody tr th {\n",
              "        vertical-align: top;\n",
              "    }\n",
              "\n",
              "    .dataframe thead th {\n",
              "        text-align: right;\n",
              "    }\n",
              "</style>\n",
              "<table border=\"1\" class=\"dataframe\">\n",
              "  <thead>\n",
              "    <tr style=\"text-align: right;\">\n",
              "      <th></th>\n",
              "      <th>label</th>\n",
              "      <th>sent</th>\n",
              "    </tr>\n",
              "  </thead>\n",
              "  <tbody>\n",
              "    <tr>\n",
              "      <th>0</th>\n",
              "      <td>-1</td>\n",
              "      <td>Lowestoft sea wall fall cyclist rescued by friend</td>\n",
              "    </tr>\n",
              "    <tr>\n",
              "      <th>1</th>\n",
              "      <td>0</td>\n",
              "      <td>The Met Gala &amp; ‘Game of Thrones’ Feature in Th...</td>\n",
              "    </tr>\n",
              "    <tr>\n",
              "      <th>2</th>\n",
              "      <td>1</td>\n",
              "      <td>Boy dies on prom day after allergic reaction t...</td>\n",
              "    </tr>\n",
              "    <tr>\n",
              "      <th>3</th>\n",
              "      <td>-1</td>\n",
              "      <td>Paddy Jackson’s return to Rugby is yet more pr...</td>\n",
              "    </tr>\n",
              "    <tr>\n",
              "      <th>4</th>\n",
              "      <td>-1</td>\n",
              "      <td>BAFTA TV Awards 2019: Stars prepare for glitzy...</td>\n",
              "    </tr>\n",
              "    <tr>\n",
              "      <th>5</th>\n",
              "      <td>0</td>\n",
              "      <td>LOOK: Poe shares son’s fave photo of her on Mo...</td>\n",
              "    </tr>\n",
              "    <tr>\n",
              "      <th>6</th>\n",
              "      <td>0</td>\n",
              "      <td>Pep Guardiola 'bans Man City staff from checki...</td>\n",
              "    </tr>\n",
              "    <tr>\n",
              "      <th>7</th>\n",
              "      <td>0</td>\n",
              "      <td>Lewis Capaldi, Olivia Wilde, Mena Massoud &amp; MO...</td>\n",
              "    </tr>\n",
              "    <tr>\n",
              "      <th>8</th>\n",
              "      <td>-1</td>\n",
              "      <td>Wanderers face leadership crisis as captain Ha...</td>\n",
              "    </tr>\n",
              "    <tr>\n",
              "      <th>9</th>\n",
              "      <td>-1</td>\n",
              "      <td>Turkey's finance minister signals inflation ra...</td>\n",
              "    </tr>\n",
              "  </tbody>\n",
              "</table>\n",
              "</div>"
            ],
            "text/plain": [
              "   label                                               sent\n",
              "0     -1  Lowestoft sea wall fall cyclist rescued by friend\n",
              "1      0  The Met Gala & ‘Game of Thrones’ Feature in Th...\n",
              "2      1  Boy dies on prom day after allergic reaction t...\n",
              "3     -1  Paddy Jackson’s return to Rugby is yet more pr...\n",
              "4     -1  BAFTA TV Awards 2019: Stars prepare for glitzy...\n",
              "5      0  LOOK: Poe shares son’s fave photo of her on Mo...\n",
              "6      0  Pep Guardiola 'bans Man City staff from checki...\n",
              "7      0  Lewis Capaldi, Olivia Wilde, Mena Massoud & MO...\n",
              "8     -1  Wanderers face leadership crisis as captain Ha...\n",
              "9     -1  Turkey's finance minister signals inflation ra..."
            ]
          },
          "metadata": {
            "tags": []
          },
          "execution_count": 88
        }
      ]
    },
    {
      "cell_type": "markdown",
      "metadata": {
        "id": "wGiYJ0SkXlgO",
        "colab_type": "text"
      },
      "source": [
        "### Lets check the top 50 cluster and their sizes\n",
        "\n",
        "Total number of clusters formed is 506"
      ]
    },
    {
      "cell_type": "code",
      "metadata": {
        "id": "JuNhZAf-sKE7",
        "colab_type": "code",
        "outputId": "43ca38a7-afba-43f7-849b-2a421a811d89",
        "colab": {
          "base_uri": "https://localhost:8080/",
          "height": 914
        }
      },
      "source": [
        "results['label'].value_counts().nlargest(50)"
      ],
      "execution_count": 0,
      "outputs": [
        {
          "output_type": "execute_result",
          "data": {
            "text/plain": [
              "-1      10022\n",
              " 0       1769\n",
              " 5         28\n",
              " 150       13\n",
              " 114       11\n",
              " 47        11\n",
              " 338       10\n",
              " 23         9\n",
              " 70         6\n",
              " 42         6\n",
              " 289        6\n",
              " 191        6\n",
              " 339        6\n",
              " 8          6\n",
              " 24         6\n",
              " 166        6\n",
              " 27         5\n",
              " 72         5\n",
              " 174        5\n",
              " 167        5\n",
              " 277        5\n",
              " 197        5\n",
              " 304        5\n",
              " 29         4\n",
              " 222        4\n",
              " 93         4\n",
              " 161        4\n",
              " 173        4\n",
              " 1          4\n",
              " 15         4\n",
              " 129        4\n",
              " 461        4\n",
              " 63         4\n",
              " 37         4\n",
              " 25         4\n",
              " 268        4\n",
              " 362        4\n",
              " 19         4\n",
              " 40         4\n",
              " 314        4\n",
              " 180        4\n",
              " 140        4\n",
              " 59         3\n",
              " 233        3\n",
              " 241        3\n",
              " 273        3\n",
              " 51         3\n",
              " 485        3\n",
              " 28         3\n",
              " 345        3\n",
              "Name: label, dtype: int64"
            ]
          },
          "metadata": {
            "tags": []
          },
          "execution_count": 97
        }
      ]
    },
    {
      "cell_type": "markdown",
      "metadata": {
        "id": "YJVDNe3-aGl4",
        "colab_type": "text"
      },
      "source": [
        "### The Final DataFrame"
      ]
    },
    {
      "cell_type": "code",
      "metadata": {
        "id": "6M-bCS6DaFDe",
        "colab_type": "code",
        "outputId": "a79a77fa-79d1-4fa8-aaac-ab6a7a51d3ac",
        "colab": {
          "base_uri": "https://localhost:8080/",
          "height": 343
        }
      },
      "source": [
        "event_df.head(10)"
      ],
      "execution_count": 0,
      "outputs": [
        {
          "output_type": "execute_result",
          "data": {
            "text/html": [
              "<div>\n",
              "<style scoped>\n",
              "    .dataframe tbody tr th:only-of-type {\n",
              "        vertical-align: middle;\n",
              "    }\n",
              "\n",
              "    .dataframe tbody tr th {\n",
              "        vertical-align: top;\n",
              "    }\n",
              "\n",
              "    .dataframe thead th {\n",
              "        text-align: right;\n",
              "    }\n",
              "</style>\n",
              "<table border=\"1\" class=\"dataframe\">\n",
              "  <thead>\n",
              "    <tr style=\"text-align: right;\">\n",
              "      <th></th>\n",
              "      <th>ArticleURL</th>\n",
              "      <th>ArticlePublishedTime</th>\n",
              "      <th>ArticleTitle</th>\n",
              "      <th>ArticleDescription</th>\n",
              "      <th>EventId</th>\n",
              "    </tr>\n",
              "  </thead>\n",
              "  <tbody>\n",
              "    <tr>\n",
              "      <th>0</th>\n",
              "      <td>https://www.bbc.co.uk/news/uk-england-suffolk-...</td>\n",
              "      <td>1970-01-01 00:00:01.557653530</td>\n",
              "      <td>Lowestoft sea wall fall cyclist rescued by friend</td>\n",
              "      <td>Coastguards praise the boy's friend for his ac...</td>\n",
              "      <td>0.0</td>\n",
              "    </tr>\n",
              "    <tr>\n",
              "      <th>1</th>\n",
              "      <td>https://www.highsnobiety.com/p/met-gala-best-c...</td>\n",
              "      <td>1970-01-01 00:00:01.557653563</td>\n",
              "      <td>The Met Gala &amp; ‘Game of Thrones’ Feature in Th...</td>\n",
              "      <td>Once again, our ever-sarcastic readership have...</td>\n",
              "      <td>0.0</td>\n",
              "    </tr>\n",
              "    <tr>\n",
              "      <th>2</th>\n",
              "      <td>https://www.mirror.co.uk/news/uk-news/boy-dies...</td>\n",
              "      <td>1970-01-01 00:00:01.557653574</td>\n",
              "      <td>Boy dies on prom day after allergic reaction t...</td>\n",
              "      <td>Joe Dale's family have spoken out about losing...</td>\n",
              "      <td>0.0</td>\n",
              "    </tr>\n",
              "    <tr>\n",
              "      <th>3</th>\n",
              "      <td>https://www.independent.co.uk/voices/paddy-jac...</td>\n",
              "      <td>1970-01-01 00:00:01.557653588</td>\n",
              "      <td>Paddy Jackson’s return to Rugby is yet more pr...</td>\n",
              "      <td>He may have been found not guilty of rape last...</td>\n",
              "      <td>0.0</td>\n",
              "    </tr>\n",
              "    <tr>\n",
              "      <th>4</th>\n",
              "      <td>https://www.standard.co.uk/showbiz/celebrity-n...</td>\n",
              "      <td>1970-01-01 00:00:01.557653610</td>\n",
              "      <td>BAFTA TV Awards 2019: Stars prepare for glitzy...</td>\n",
              "      <td>Stars are preparing for Sunday night s TV Baft...</td>\n",
              "      <td>0.0</td>\n",
              "    </tr>\n",
              "    <tr>\n",
              "      <th>5</th>\n",
              "      <td>https://newsinfo.inquirer.net/1117187/look-poe...</td>\n",
              "      <td>1970-01-01 00:00:01.557653627</td>\n",
              "      <td>LOOK: Poe shares son’s fave photo of her on Mo...</td>\n",
              "      <td>Sen. Grace Poe, who is running for re-election...</td>\n",
              "      <td>0.0</td>\n",
              "    </tr>\n",
              "    <tr>\n",
              "      <th>6</th>\n",
              "      <td>https://www.mirror.co.uk/sport/football/news/p...</td>\n",
              "      <td>1970-01-01 00:00:01.557653639</td>\n",
              "      <td>Pep Guardiola 'bans Man City staff from checki...</td>\n",
              "      <td>Man City will win the Premier League with vict...</td>\n",
              "      <td>0.0</td>\n",
              "    </tr>\n",
              "    <tr>\n",
              "      <th>7</th>\n",
              "      <td>https://virginradio.co.uk/highlights/lewis-cap...</td>\n",
              "      <td>1970-01-01 00:00:01.557653674</td>\n",
              "      <td>Lewis Capaldi, Olivia Wilde, Mena Massoud &amp; MO...</td>\n",
              "      <td>HighlightsThe cavalcade of stars continued thi...</td>\n",
              "      <td>0.0</td>\n",
              "    </tr>\n",
              "    <tr>\n",
              "      <th>8</th>\n",
              "      <td>https://www.smh.com.au/sport/soccer/wanderers-...</td>\n",
              "      <td>1970-01-01 00:00:01.557653689</td>\n",
              "      <td>Wanderers face leadership crisis as captain Ha...</td>\n",
              "      <td>Western Sydney Wanderers captain Brendan Hamil...</td>\n",
              "      <td>0.0</td>\n",
              "    </tr>\n",
              "    <tr>\n",
              "      <th>9</th>\n",
              "      <td>https://ahvalnews.com/berat-albayrak/turkeys-f...</td>\n",
              "      <td>1970-01-01 00:00:01.557653697</td>\n",
              "      <td>Turkey's finance minister signals inflation ra...</td>\n",
              "      <td>Turkey's finance minister on Sunday said the c...</td>\n",
              "      <td>0.0</td>\n",
              "    </tr>\n",
              "  </tbody>\n",
              "</table>\n",
              "</div>"
            ],
            "text/plain": [
              "                                          ArticleURL  ... EventId\n",
              "0  https://www.bbc.co.uk/news/uk-england-suffolk-...  ...     0.0\n",
              "1  https://www.highsnobiety.com/p/met-gala-best-c...  ...     0.0\n",
              "2  https://www.mirror.co.uk/news/uk-news/boy-dies...  ...     0.0\n",
              "3  https://www.independent.co.uk/voices/paddy-jac...  ...     0.0\n",
              "4  https://www.standard.co.uk/showbiz/celebrity-n...  ...     0.0\n",
              "5  https://newsinfo.inquirer.net/1117187/look-poe...  ...     0.0\n",
              "6  https://www.mirror.co.uk/sport/football/news/p...  ...     0.0\n",
              "7  https://virginradio.co.uk/highlights/lewis-cap...  ...     0.0\n",
              "8  https://www.smh.com.au/sport/soccer/wanderers-...  ...     0.0\n",
              "9  https://ahvalnews.com/berat-albayrak/turkeys-f...  ...     0.0\n",
              "\n",
              "[10 rows x 5 columns]"
            ]
          },
          "metadata": {
            "tags": []
          },
          "execution_count": 81
        }
      ]
    },
    {
      "cell_type": "markdown",
      "metadata": {
        "id": "-hrNJCViXzkq",
        "colab_type": "text"
      },
      "source": [
        "### Getting the mean Vector"
      ]
    },
    {
      "cell_type": "code",
      "metadata": {
        "id": "fN6qmBLy4OuM",
        "colab_type": "code",
        "colab": {}
      },
      "source": [
        "def get_mean_vector(sents):\n",
        "  a=np.zeros(96)\n",
        "  for sent in sents:\n",
        "    a=a+nlp(sent).vector\n",
        "  return a/len(sents)\n",
        "  "
      ],
      "execution_count": 0,
      "outputs": []
    },
    {
      "cell_type": "code",
      "metadata": {
        "id": "_xzVb4Qu43dQ",
        "colab_type": "code",
        "colab": {}
      },
      "source": [
        "def get_central_vector(sents):\n",
        "  vecs=[]\n",
        "  for sent in sents:\n",
        "    doc=nlp(ArticleTitle)\n",
        "    vecs.append(doc.vector)\n",
        "  mean_vec=get_mean_vector(sents)\n",
        "  index=pairwise_distance_argmin_min(np.array([mean_vec]),vecs)[0][0]\n",
        "  return sents[index]\n",
        "  "
      ],
      "execution_count": 0,
      "outputs": []
    },
    {
      "cell_type": "code",
      "metadata": {
        "id": "4XKr2kBX6EpH",
        "colab_type": "code",
        "outputId": "a8f5e591-c1e1-404a-df7c-47c4fda5277f",
        "colab": {
          "base_uri": "https://localhost:8080/",
          "height": 298
        }
      },
      "source": [
        "l=get_mean_vector(results['sent'])\n",
        "print(l)"
      ],
      "execution_count": 0,
      "outputs": [
        {
          "output_type": "stream",
          "text": [
            "[ 1.65051925 -1.5371054  -0.99965313 -1.71156383 -0.65126257  0.55436463\n",
            "  2.69546819  0.91861703 -0.68392492  1.24070817 -0.12683924 -0.1585369\n",
            " -1.48919119 -1.22342266 -0.24514404 -0.53235199  0.44680361  1.30903564\n",
            "  0.81043549  1.54462343 -1.33128678 -0.92360737  1.07334576  1.88306888\n",
            " -0.29855695  0.84668891  0.66915921 -0.80656889  1.07871278  2.62134186\n",
            "  1.21903926 -0.65371054 -0.57431731 -0.33382327  1.65673981  0.78495114\n",
            " -0.75869497  1.18659917 -0.40910358  0.2058669   0.19911874  1.57140003\n",
            "  0.62300667  0.14321044  0.10085483 -0.66821382 -1.51804585  0.39318142\n",
            " -0.19692304 -0.23873555 -1.58125683 -0.08279669 -1.42581674 -0.60242489\n",
            "  0.32430983 -0.33649655  0.05084067  0.70206254 -1.29522077 -0.39100278\n",
            " -0.80925884 -0.3543978   1.62086812 -0.45322847 -0.91090165  1.66027422\n",
            "  0.05358627 -0.18238331 -0.76154386  0.00847259  0.79360505 -0.20622177\n",
            "  0.45041912  1.45102963  0.15825019  0.58174042 -0.2370958  -0.93666328\n",
            " -0.37323417 -1.2908154  -0.98866929 -1.24871372 -1.97822666  0.94303455\n",
            " -0.0903803  -0.27654475  0.8002491  -0.15259106  0.39859684  0.40295616\n",
            "  0.74271906 -0.23005185 -0.75533922  0.59153909 -0.79124327  0.56555034]\n"
          ],
          "name": "stdout"
        }
      ]
    },
    {
      "cell_type": "code",
      "metadata": {
        "id": "T05NdWCa6Uc4",
        "colab_type": "code",
        "colab": {}
      },
      "source": [
        ""
      ],
      "execution_count": 0,
      "outputs": []
    },
    {
      "cell_type": "code",
      "metadata": {
        "id": "UoeMkNEp8cAl",
        "colab_type": "code",
        "colab": {}
      },
      "source": [
        ""
      ],
      "execution_count": 0,
      "outputs": []
    }
  ]
}